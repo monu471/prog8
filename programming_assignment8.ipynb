{
 "cells": [
  {
   "cell_type": "code",
   "execution_count": null,
   "id": "7890d8d1",
   "metadata": {},
   "outputs": [],
   "source": [
    "# Write a Python Program to Add Two Matrices?\n",
    "a = [\n",
    "    [1,8,9],\n",
    "    [4,8,9665],\n",
    "    [123,563,896]\n",
    "]\n",
    "\n",
    "b = [\n",
    "    [45,89,36],\n",
    "    [88,6,372],\n",
    "    [11,1,91]\n",
    "]\n",
    "\n",
    "c = [\n",
    "    [0,0,0],\n",
    "    [0,0,0],\n",
    "    [0,0,0]\n",
    "    \n",
    "]\n",
    "\n",
    "\n",
    "for i in range(0,len(a)):\n",
    "    for j in range(0,len(b)):\n",
    "        c[i][j]+= a[i][j]+b[i][j]\n",
    "for x in c:\n",
    "    print(x)"
   ]
  },
  {
   "cell_type": "code",
   "execution_count": null,
   "id": "0745dc6f",
   "metadata": {},
   "outputs": [],
   "source": [
    "# Write a Python Program to Multiply Two Matrices?\n",
    "a = [\n",
    "    [1,8,9],\n",
    "    [4,8,9665],\n",
    "    [123,563,896]\n",
    "]\n",
    "b = [\n",
    "    [45,89,36],\n",
    "    [88,6,372],\n",
    "    [11,1,91]\n",
    "]\n",
    "c = [\n",
    "    [0,0,0],\n",
    "    [0,0,0],\n",
    "    [0,0,0]\n",
    "    \n",
    "]\n",
    "for i in range(0,len(a)):\n",
    "    for j in range(0,len(b)):\n",
    "        for k in range(0,len(c)):\n",
    "            c[i][j] += a[i][k]*b[k][j]\n",
    "for x in c:\n",
    "    print(x)\n",
    "        "
   ]
  },
  {
   "cell_type": "code",
   "execution_count": null,
   "id": "885a79b8",
   "metadata": {},
   "outputs": [],
   "source": [
    "# Write a Python Program to Transpose a Matrix?\n",
    "a = [\n",
    "    [1,8,9],\n",
    "    [4,8,9665],\n",
    "    [123,563,896]\n",
    "]\n",
    "c = [\n",
    "    [0,0,0],\n",
    "    [0,0,0],\n",
    "    [0,0,0]\n",
    "    \n",
    "]\n",
    "for i in range(0,len(a)):\n",
    "     for j in range(0,len(c)):\n",
    "        c[i][j]= c[i][j]+a[j][i]\n",
    "for x in c:\n",
    "    print(\"Transpose a Matrix\",x)\n",
    "    \n",
    "        "
   ]
  },
  {
   "cell_type": "code",
   "execution_count": null,
   "id": "56bdf8b8",
   "metadata": {},
   "outputs": [],
   "source": [
    "# Write a Python Program to Sort Words in Alphabetic Order?\n",
    "a = input(\"enter a word\\n\")\n",
    "b = input(\"enter a word\\n\")\n",
    "c = input(\"enter a word\\n\")\n",
    "d = input(\"enter a word\\n\")\n",
    "e  = [a,b,c,d]\n",
    "for i in e:\n",
    "    e.sort()\n",
    "print(e)\n"
   ]
  },
  {
   "cell_type": "code",
   "execution_count": null,
   "id": "b005f0ce",
   "metadata": {},
   "outputs": [],
   "source": [
    "# Write a Python Program to Remove Punctuation From a String?\n",
    "a = input('''enter a string  ''')\n",
    "b = [''',''','''.''','''/''',''';''','''?''','''-''','''/''','''[]''']\n",
    "for i in a:\n",
    "    if i in b:\n",
    "        a = a.replace(i,'')\n",
    "print(a)\n",
    "        \n"
   ]
  },
  {
   "cell_type": "code",
   "execution_count": null,
   "id": "7e0deddf",
   "metadata": {},
   "outputs": [],
   "source": []
  }
 ],
 "metadata": {
  "kernelspec": {
   "display_name": "Python 3 (ipykernel)",
   "language": "python",
   "name": "python3"
  },
  "language_info": {
   "codemirror_mode": {
    "name": "ipython",
    "version": 3
   },
   "file_extension": ".py",
   "mimetype": "text/x-python",
   "name": "python",
   "nbconvert_exporter": "python",
   "pygments_lexer": "ipython3",
   "version": "3.9.12"
  }
 },
 "nbformat": 4,
 "nbformat_minor": 5
}
